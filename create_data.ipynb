{
 "metadata": {
  "language_info": {
   "codemirror_mode": {
    "name": "ipython",
    "version": 3
   },
   "file_extension": ".py",
   "mimetype": "text/x-python",
   "name": "python",
   "nbconvert_exporter": "python",
   "pygments_lexer": "ipython3",
   "version": "3.8.5-final"
  },
  "orig_nbformat": 2,
  "kernelspec": {
   "name": "python3",
   "display_name": "Python 3"
  }
 },
 "nbformat": 4,
 "nbformat_minor": 2,
 "cells": [
  {
   "cell_type": "code",
   "execution_count": 23,
   "metadata": {},
   "outputs": [],
   "source": [
    "name = \"2sp2glob\"\n",
    "f = open(\"./data/\"+name+\".txt\", \"r\")\n",
    "data = f.readlines()\n",
    "f.close()\n",
    "num = len(data)"
   ]
  },
  {
   "cell_type": "code",
   "execution_count": 24,
   "metadata": {},
   "outputs": [
    {
     "output_type": "execute_result",
     "data": {
      "text/plain": [
       "['10.5,9,1\\n',\n",
       " '10.56717,9.268445,1\\n',\n",
       " '8.27532,11.38221,1\\n',\n",
       " '8.227458,11.37764,1\\n',\n",
       " '8.179511,11.37211,1\\n',\n",
       " '8.1315,11.36561,1\\n',\n",
       " '8.083443,11.35814,1\\n',\n",
       " '8.035361,11.3497,1\\n',\n",
       " '7.98727,11.34027,1\\n',\n",
       " '7.9392,11.32987,1\\n']"
      ]
     },
     "metadata": {},
     "execution_count": 24
    }
   ],
   "source": [
    "data[0:10]"
   ]
  },
  {
   "cell_type": "code",
   "execution_count": 25,
   "metadata": {},
   "outputs": [
    {
     "output_type": "execute_result",
     "data": {
      "text/plain": [
       "[['10.56717', '9.268445', '1'],\n",
       " ['8.27532', '11.38221', '1'],\n",
       " ['8.227458', '11.37764', '1'],\n",
       " ['8.179511', '11.37211', '1'],\n",
       " ['8.1315', '11.36561', '1'],\n",
       " ['8.083443', '11.35814', '1'],\n",
       " ['8.035361', '11.3497', '1'],\n",
       " ['7.98727', '11.34027', '1'],\n",
       " ['7.9392', '11.32987', '1'],\n",
       " ['7.89116', '11.31848', '1']]"
      ]
     },
     "metadata": {},
     "execution_count": 25
    }
   ],
   "source": [
    "data=data[1:]\n",
    "data=[x.rstrip().split(\",\") for x in data]\n",
    "data[0:10]"
   ]
  },
  {
   "cell_type": "code",
   "execution_count": 26,
   "metadata": {},
   "outputs": [],
   "source": [
    "f=open(\"./data/\"+name+\".dat\", \"w\")\n",
    "f.write(str(num)+\"\\n\")\n",
    "for x in data:\n",
    "    f.write(x[0]+\" \"+x[1]+\"\\n\")\n",
    "f.close()"
   ]
  },
  {
   "cell_type": "code",
   "execution_count": null,
   "metadata": {},
   "outputs": [],
   "source": []
  }
 ]
}