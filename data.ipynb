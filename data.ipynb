{
 "metadata": {
  "language_info": {
   "codemirror_mode": {
    "name": "ipython",
    "version": 3
   },
   "file_extension": ".py",
   "mimetype": "text/x-python",
   "name": "python",
   "nbconvert_exporter": "python",
   "pygments_lexer": "ipython3",
   "version": "3.8.5-final"
  },
  "orig_nbformat": 2,
  "kernelspec": {
   "name": "python3",
   "display_name": "Python 3"
  }
 },
 "nbformat": 4,
 "nbformat_minor": 2,
 "cells": [
  {
   "cell_type": "code",
   "execution_count": 40,
   "metadata": {},
   "outputs": [],
   "source": [
    "f = open(\"d31.dat\", \"r\")\n",
    "data = f.readlines()\n",
    "f.close()\n",
    "num = int(data[0])"
   ]
  },
  {
   "cell_type": "code",
   "execution_count": 41,
   "metadata": {},
   "outputs": [
    {
     "output_type": "execute_result",
     "data": {
      "text/plain": [
       "3100"
      ]
     },
     "metadata": {},
     "execution_count": 41
    }
   ],
   "source": [
    "num"
   ]
  },
  {
   "cell_type": "code",
   "execution_count": 42,
   "metadata": {},
   "outputs": [
    {
     "output_type": "execute_result",
     "data": {
      "text/plain": [
       "[['3100'],\n",
       " ['25.0514', '5.7475', '1'],\n",
       " ['26.6614', '7.3414', '1'],\n",
       " ['25.2653', '6.2466', '1'],\n",
       " ['25.2285', '4.7447', '1'],\n",
       " ['25.7529', '5.1564', '1'],\n",
       " ['24.0785', '5.6693', '1'],\n",
       " ['25.2722', '6.8676', '1'],\n",
       " ['24.6535', '6.2443', '1'],\n",
       " ['26.9834', '6.633', '1']]"
      ]
     },
     "metadata": {},
     "execution_count": 42
    }
   ],
   "source": [
    "data = [x.rstrip().split(\",\") for x in data]\n",
    "data[0:10]"
   ]
  },
  {
   "cell_type": "code",
   "execution_count": 43,
   "metadata": {},
   "outputs": [],
   "source": [
    "data = data[1:]"
   ]
  },
  {
   "cell_type": "code",
   "execution_count": 44,
   "metadata": {},
   "outputs": [],
   "source": [
    "f=open(\"d_31.dat\", \"w\")\n",
    "f.write(str(num)+\"\\n\")\n",
    "for x in data:\n",
    "    f.write(x[0]+\",\"+x[1]+\"\\n\")\n",
    "f.close()"
   ]
  },
  {
   "cell_type": "code",
   "execution_count": 45,
   "metadata": {},
   "outputs": [],
   "source": [
    "f=open(\"d_31_id.dat\", \"w\")\n",
    "for x in data:\n",
    "    f.write(x[2]+\"\\n\")\n",
    "f.close()"
   ]
  }
 ]
}