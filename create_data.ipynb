{
 "metadata": {
  "language_info": {
   "codemirror_mode": {
    "name": "ipython",
    "version": 3
   },
   "file_extension": ".py",
   "mimetype": "text/x-python",
   "name": "python",
   "nbconvert_exporter": "python",
   "pygments_lexer": "ipython3",
   "version": "3.8.5-final"
  },
  "orig_nbformat": 2,
  "kernelspec": {
   "name": "python3",
   "display_name": "Python 3"
  }
 },
 "nbformat": 4,
 "nbformat_minor": 2,
 "cells": [
  {
   "cell_type": "code",
   "execution_count": 1,
   "metadata": {},
   "outputs": [],
   "source": [
    "f = open(\"20c.dat\", \"r\")\n",
    "data = f.readlines()\n",
    "f.close()\n",
    "num = int(data[0])"
   ]
  },
  {
   "cell_type": "code",
   "execution_count": 2,
   "metadata": {},
   "outputs": [
    {
     "output_type": "execute_result",
     "data": {
      "text/plain": [
       "['1517\\n',\n",
       " '-8.69493,-4.08204,0\\n',\n",
       " '-8.6404,-3.85833,0\\n',\n",
       " '-7.70667,-1.4747,0\\n',\n",
       " '-8.81293,-3.27131,0\\n',\n",
       " '-8.05403,-3.51724,0\\n',\n",
       " '-8.29488,-3.51365,0\\n',\n",
       " '-10.1359,-4.39111,0\\n',\n",
       " '-8.04381,-2.79032,0\\n',\n",
       " '-9.82957,-4.44724,0\\n']"
      ]
     },
     "metadata": {},
     "execution_count": 2
    }
   ],
   "source": [
    "data[0:10]"
   ]
  },
  {
   "cell_type": "code",
   "execution_count": 3,
   "metadata": {},
   "outputs": [
    {
     "output_type": "execute_result",
     "data": {
      "text/plain": [
       "[['-8.69493', '-4.08204', '0'],\n",
       " ['-8.6404', '-3.85833', '0'],\n",
       " ['-7.70667', '-1.4747', '0'],\n",
       " ['-8.81293', '-3.27131', '0'],\n",
       " ['-8.05403', '-3.51724', '0'],\n",
       " ['-8.29488', '-3.51365', '0'],\n",
       " ['-10.1359', '-4.39111', '0'],\n",
       " ['-8.04381', '-2.79032', '0'],\n",
       " ['-9.82957', '-4.44724', '0'],\n",
       " ['-9.09786', '-4.46506', '0']]"
      ]
     },
     "metadata": {},
     "execution_count": 3
    }
   ],
   "source": [
    "data=data[1:]\n",
    "data=[x.rstrip().split(\",\") for x in data]\n",
    "data[0:10]"
   ]
  },
  {
   "cell_type": "code",
   "execution_count": 6,
   "metadata": {},
   "outputs": [],
   "source": [
    "f=open(\"c_20.dat\", \"w\")\n",
    "f.write(str(num)+\"\\n\")\n",
    "for x in data:\n",
    "    f.write(x[0]+\" \"+x[1]+\"\\n\")\n",
    "f.close()"
   ]
  },
  {
   "cell_type": "code",
   "execution_count": 5,
   "metadata": {},
   "outputs": [],
   "source": [
    "f=open(\"c_20_id.dat\", \"w\")\n",
    "for x in data:\n",
    "    f.write(x[2]+\"\\n\")\n",
    "f.close()"
   ]
  },
  {
   "cell_type": "code",
   "execution_count": null,
   "metadata": {},
   "outputs": [],
   "source": []
  }
 ]
}